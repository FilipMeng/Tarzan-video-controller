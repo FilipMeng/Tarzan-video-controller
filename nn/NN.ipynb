{
 "cells": [
  {
   "cell_type": "code",
   "execution_count": 1,
   "metadata": {},
   "outputs": [
    {
     "name": "stderr",
     "output_type": "stream",
     "text": [
      "Using TensorFlow backend.\n",
      "c:\\users\\filip\\.conda\\envs\\soft-ve\\lib\\site-packages\\tensorflow\\python\\framework\\dtypes.py:523: FutureWarning: Passing (type, 1) or '1type' as a synonym of type is deprecated; in a future version of numpy, it will be understood as (type, (1,)) / '(1,)type'.\n",
      "  _np_qint8 = np.dtype([(\"qint8\", np.int8, 1)])\n",
      "c:\\users\\filip\\.conda\\envs\\soft-ve\\lib\\site-packages\\tensorflow\\python\\framework\\dtypes.py:524: FutureWarning: Passing (type, 1) or '1type' as a synonym of type is deprecated; in a future version of numpy, it will be understood as (type, (1,)) / '(1,)type'.\n",
      "  _np_quint8 = np.dtype([(\"quint8\", np.uint8, 1)])\n",
      "c:\\users\\filip\\.conda\\envs\\soft-ve\\lib\\site-packages\\tensorflow\\python\\framework\\dtypes.py:525: FutureWarning: Passing (type, 1) or '1type' as a synonym of type is deprecated; in a future version of numpy, it will be understood as (type, (1,)) / '(1,)type'.\n",
      "  _np_qint16 = np.dtype([(\"qint16\", np.int16, 1)])\n",
      "c:\\users\\filip\\.conda\\envs\\soft-ve\\lib\\site-packages\\tensorflow\\python\\framework\\dtypes.py:526: FutureWarning: Passing (type, 1) or '1type' as a synonym of type is deprecated; in a future version of numpy, it will be understood as (type, (1,)) / '(1,)type'.\n",
      "  _np_quint16 = np.dtype([(\"quint16\", np.uint16, 1)])\n",
      "c:\\users\\filip\\.conda\\envs\\soft-ve\\lib\\site-packages\\tensorflow\\python\\framework\\dtypes.py:527: FutureWarning: Passing (type, 1) or '1type' as a synonym of type is deprecated; in a future version of numpy, it will be understood as (type, (1,)) / '(1,)type'.\n",
      "  _np_qint32 = np.dtype([(\"qint32\", np.int32, 1)])\n",
      "c:\\users\\filip\\.conda\\envs\\soft-ve\\lib\\site-packages\\tensorflow\\python\\framework\\dtypes.py:532: FutureWarning: Passing (type, 1) or '1type' as a synonym of type is deprecated; in a future version of numpy, it will be understood as (type, (1,)) / '(1,)type'.\n",
      "  np_resource = np.dtype([(\"resource\", np.ubyte, 1)])\n",
      "c:\\users\\filip\\.conda\\envs\\soft-ve\\lib\\site-packages\\tensorboard\\compat\\tensorflow_stub\\dtypes.py:541: FutureWarning: Passing (type, 1) or '1type' as a synonym of type is deprecated; in a future version of numpy, it will be understood as (type, (1,)) / '(1,)type'.\n",
      "  _np_qint8 = np.dtype([(\"qint8\", np.int8, 1)])\n",
      "c:\\users\\filip\\.conda\\envs\\soft-ve\\lib\\site-packages\\tensorboard\\compat\\tensorflow_stub\\dtypes.py:542: FutureWarning: Passing (type, 1) or '1type' as a synonym of type is deprecated; in a future version of numpy, it will be understood as (type, (1,)) / '(1,)type'.\n",
      "  _np_quint8 = np.dtype([(\"quint8\", np.uint8, 1)])\n",
      "c:\\users\\filip\\.conda\\envs\\soft-ve\\lib\\site-packages\\tensorboard\\compat\\tensorflow_stub\\dtypes.py:543: FutureWarning: Passing (type, 1) or '1type' as a synonym of type is deprecated; in a future version of numpy, it will be understood as (type, (1,)) / '(1,)type'.\n",
      "  _np_qint16 = np.dtype([(\"qint16\", np.int16, 1)])\n",
      "c:\\users\\filip\\.conda\\envs\\soft-ve\\lib\\site-packages\\tensorboard\\compat\\tensorflow_stub\\dtypes.py:544: FutureWarning: Passing (type, 1) or '1type' as a synonym of type is deprecated; in a future version of numpy, it will be understood as (type, (1,)) / '(1,)type'.\n",
      "  _np_quint16 = np.dtype([(\"quint16\", np.uint16, 1)])\n",
      "c:\\users\\filip\\.conda\\envs\\soft-ve\\lib\\site-packages\\tensorboard\\compat\\tensorflow_stub\\dtypes.py:545: FutureWarning: Passing (type, 1) or '1type' as a synonym of type is deprecated; in a future version of numpy, it will be understood as (type, (1,)) / '(1,)type'.\n",
      "  _np_qint32 = np.dtype([(\"qint32\", np.int32, 1)])\n",
      "c:\\users\\filip\\.conda\\envs\\soft-ve\\lib\\site-packages\\tensorboard\\compat\\tensorflow_stub\\dtypes.py:550: FutureWarning: Passing (type, 1) or '1type' as a synonym of type is deprecated; in a future version of numpy, it will be understood as (type, (1,)) / '(1,)type'.\n",
      "  np_resource = np.dtype([(\"resource\", np.ubyte, 1)])\n"
     ]
    }
   ],
   "source": [
    "import numpy as np\n",
    "import cv2\n",
    "import os\n",
    "import keras\n",
    "import matplotlib.pyplot as plt\n",
    "\n",
    "from keras.optimizers import SGD\n",
    "from keras.optimizers import Adam\n",
    "\n",
    "from keras import backend as K\n",
    "from keras.models import Sequential\n",
    "from keras.layers import Activation\n",
    "from keras.layers import Conv2D\n",
    "from keras.layers.core import Dense, Flatten\n",
    "from keras.metrics import categorical_crossentropy\n",
    "from keras.preprocessing.image import ImageDataGenerator\n",
    "from keras.layers.normalization import BatchNormalization\n",
    "from matplotlib import pyplot as plt\n",
    "from sklearn.metrics import confusion_matrix\n",
    "\n",
    "import pydot\n",
    "import graphviz\n",
    "from IPython.display import SVG\n",
    "from keras.utils import model_to_dot\n",
    "\n",
    "import itertools\n",
    "%matplotlib inline"
   ]
  },
  {
   "cell_type": "code",
   "execution_count": 2,
   "metadata": {},
   "outputs": [],
   "source": [
    "def display_image(image, color=False):\n",
    "    if color:\n",
    "        plt.imshow(image)\n",
    "    else:\n",
    "        plt.imshow(image, 'gray')\n"
   ]
  },
  {
   "cell_type": "code",
   "execution_count": 3,
   "metadata": {},
   "outputs": [],
   "source": [
    "def scale_to_range(image):\n",
    "    return image/255"
   ]
  },
  {
   "cell_type": "code",
   "execution_count": 4,
   "metadata": {},
   "outputs": [],
   "source": [
    "def matrix_to_vector(image):\n",
    "    return image.flatten()"
   ]
  },
  {
   "cell_type": "code",
   "execution_count": 5,
   "metadata": {},
   "outputs": [],
   "source": [
    "def prepare_for_ann(path, output_size):\n",
    "    inputs = []\n",
    "    outputs = []\n",
    "    i=0\n",
    "    \n",
    "    for dir in os.listdir(path):\n",
    "        for img in os.listdir(path+\"/\"+dir):\n",
    "            \n",
    "            label = np.zeros(output_size)\n",
    "            label[i] = 1\n",
    "            outputs.append(label)\n",
    "            \n",
    "            readedImg = cv2.imread(path+\"/\"+dir+\"/\"+img, cv2.IMREAD_GRAYSCALE)\n",
    "            scale = scale_to_range(readedImg) #zbog brzeg treniranja\n",
    "            inputs.append(matrix_to_vector(scale))#pripremi za ulaz\n",
    "            \n",
    "        i+=1\n",
    "        \n",
    "    return inputs, outputs"
   ]
  },
  {
   "cell_type": "code",
   "execution_count": 6,
   "metadata": {},
   "outputs": [],
   "source": [
    "def prepare_for_predict(path):\n",
    "    readedImg = cv2.imread(path, cv2.IMREAD_GRAYSCALE)\n",
    "    scale = scale_to_range(readedImg)\n",
    "    return matrix_to_vector(scale)"
   ]
  },
  {
   "cell_type": "code",
   "execution_count": 7,
   "metadata": {},
   "outputs": [],
   "source": [
    "#output_size 7\n",
    "def create_ann(output_size):\n",
    "    ann = Sequential()\n",
    "    ann.add(Dense(128, input_dim=40000, activation='sigmoid'))\n",
    "    ann.add(Dense(output_size, activation='sigmoid'))\n",
    "    return ann"
   ]
  },
  {
   "cell_type": "code",
   "execution_count": 8,
   "metadata": {},
   "outputs": [],
   "source": [
    "def train_ann(ann, x_train, y_train, x_validate, y_validate, epochs):\n",
    "    x_train = np.array(x_train, np.float32) # dati ulaz\n",
    "    y_train = np.array(y_train, np.float32) # zeljeni izlazi na date ulaze\n",
    "    \n",
    "    x_validate = np.array(x_validate, np.float32) \n",
    "    y_validate = np.array(y_validate, np.float32)\n",
    "    \n",
    "    print(\"\\nTraining started...\")\n",
    "    sgd = SGD(lr=0.01, momentum=0.9)\n",
    "    ann.compile(loss='mean_squared_error', optimizer=sgd, metrics=['acc'])\n",
    "    ann.summary()\n",
    "    #SVG(model_to_dot(ann).create(prog='dot', format='svg'))\n",
    "    history = ann.fit(x_train, y_train, validation_data=(x_validate, y_validate), epochs=epochs, batch_size=10, verbose=1, shuffle=True)\n",
    "\n",
    "    print(\"\\nTraining completed...\")\n",
    "\n",
    "    plt.plot(history.history['acc'])\n",
    "    plt.plot(history.history['val_acc'])\n",
    "    plt.title('Model accuracy')\n",
    "    plt.ylabel('Accuracy')\n",
    "    plt.xlabel('Epoch')\n",
    "    plt.legend(['Train', 'Test'], loc='upper left')\n",
    "    plt.show()\n",
    "    \n",
    "    plt.plot(history.history['loss'])\n",
    "    plt.plot(history.history['val_loss'])\n",
    "    plt.title('Model loss')\n",
    "    plt.ylabel('Loss')\n",
    "    plt.xlabel('Epoch')\n",
    "    plt.legend(['Train', 'Test'], loc='upper left')\n",
    "    plt.show()\n",
    "\n",
    "    return ann"
   ]
  },
  {
   "cell_type": "code",
   "execution_count": 9,
   "metadata": {},
   "outputs": [],
   "source": [
    "def winner(output):\n",
    "    return max(enumerate(output), key=lambda x: x[1])[0]"
   ]
  },
  {
   "cell_type": "code",
   "execution_count": 10,
   "metadata": {},
   "outputs": [],
   "source": [
    "train_path = \"prepare_data/train\"\n",
    "valid_path = \"prepare_data/valid\" \n",
    "test_path = \"prepare_data/test\""
   ]
  },
  {
   "cell_type": "code",
   "execution_count": 11,
   "metadata": {},
   "outputs": [],
   "source": [
    "alphabet = [\"down\",\"left\",\"no\",\"right\",\"up\",\"up-left\",\"up-right\"]\n",
    "inputs, outputs = prepare_for_ann(train_path, len(alphabet))\n",
    "inputs_valid, outputs_valid = prepare_for_ann(valid_path, len(alphabet))"
   ]
  },
  {
   "cell_type": "code",
   "execution_count": 12,
   "metadata": {},
   "outputs": [
    {
     "data": {
      "image/png": "[encoded data removed]",
      "text/plain": [
       "<IPython.core.display.Image object>"
      ]
     },
     "execution_count": 12,
     "metadata": {},
     "output_type": "execute_result"
    }
   ],
   "source": [
    "ann = create_ann(len(alphabet))\n",
    "keras.utils.plot_model(\n",
    "    ann,\n",
    "    to_file='model.png',\n",
    "    show_shapes=True,\n",
    "    show_layer_names=True,\n",
    "    rankdir='TB',\n",
    "    expand_nested=False,\n",
    "    dpi=96\n",
    ")\n",
    "\n"
   ]
  },
  {
   "cell_type": "code",
   "execution_count": 13,
   "metadata": {},
   "outputs": [
    {
     "name": "stdout",
     "output_type": "stream",
     "text": [
      "\n",
      "Training started...\n",
      "Model: \"sequential_1\"\n",
      "_________________________________________________________________\n",
      "Layer (type)                 Output Shape              Param #   \n",
      "=================================================================\n",
      "dense_1 (Dense)              (None, 128)               5120128   \n",
      "_________________________________________________________________\n",
      "dense_2 (Dense)              (None, 7)                 903       \n",
      "=================================================================\n",
      "Total params: 5,121,031\n",
      "Trainable params: 5,121,031\n",
      "Non-trainable params: 0\n",
      "_________________________________________________________________\n",
      "Train on 1960 samples, validate on 245 samples\n",
      "Epoch 1/20\n",
      "1960/1960 [==============================] - 9s 4ms/step - loss: 0.0560 - acc: 0.8276 - val_loss: 0.0268 - val_acc: 0.9265\n",
      "Epoch 2/20\n",
      "1960/1960 [==============================] - 7s 3ms/step - loss: 0.0236 - acc: 0.9638 - val_loss: 0.0184 - val_acc: 0.9755\n",
      "Epoch 3/20\n",
      "1960/1960 [==============================] - 7s 4ms/step - loss: 0.0168 - acc: 0.9781 - val_loss: 0.0143 - val_acc: 0.9673\n",
      "Epoch 4/20\n",
      "1960/1960 [==============================] - 7s 3ms/step - loss: 0.0134 - acc: 0.9816 - val_loss: 0.0108 - val_acc: 0.9837\n",
      "Epoch 5/20\n",
      "1960/1960 [==============================] - 6s 3ms/step - loss: 0.0112 - acc: 0.9842 - val_loss: 0.0100 - val_acc: 0.9837\n",
      "Epoch 6/20\n",
      "1960/1960 [==============================] - 6s 3ms/step - loss: 0.0096 - acc: 0.9878 - val_loss: 0.0093 - val_acc: 0.9755\n",
      "Epoch 7/20\n",
      "1960/1960 [==============================] - 6s 3ms/step - loss: 0.0085 - acc: 0.9878 - val_loss: 0.0103 - val_acc: 0.9673\n",
      "Epoch 8/20\n",
      "1960/1960 [==============================] - 6s 3ms/step - loss: 0.0075 - acc: 0.9898 - val_loss: 0.0078 - val_acc: 0.9837\n",
      "Epoch 9/20\n",
      "1960/1960 [==============================] - 6s 3ms/step - loss: 0.0068 - acc: 0.9898 - val_loss: 0.0065 - val_acc: 0.9837\n",
      "Epoch 10/20\n",
      "1960/1960 [==============================] - 6s 3ms/step - loss: 0.0062 - acc: 0.9913 - val_loss: 0.0072 - val_acc: 0.9755\n",
      "Epoch 11/20\n",
      "1960/1960 [==============================] - 7s 3ms/step - loss: 0.0056 - acc: 0.9939 - val_loss: 0.0063 - val_acc: 0.9837\n",
      "Epoch 12/20\n",
      "1960/1960 [==============================] - 7s 3ms/step - loss: 0.0052 - acc: 0.9934 - val_loss: 0.0071 - val_acc: 0.9714\n",
      "Epoch 13/20\n",
      "1960/1960 [==============================] - 7s 3ms/step - loss: 0.0048 - acc: 0.9944 - val_loss: 0.0054 - val_acc: 0.9837\n",
      "Epoch 14/20\n",
      "1960/1960 [==============================] - 7s 4ms/step - loss: 0.0044 - acc: 0.9959 - val_loss: 0.0058 - val_acc: 0.9755\n",
      "Epoch 15/20\n",
      "1960/1960 [==============================] - 7s 3ms/step - loss: 0.0041 - acc: 0.9969 - val_loss: 0.0053 - val_acc: 0.9796\n",
      "Epoch 16/20\n",
      "1960/1960 [==============================] - 7s 3ms/step - loss: 0.0038 - acc: 0.9974 - val_loss: 0.0054 - val_acc: 0.9796\n",
      "Epoch 17/20\n",
      "1960/1960 [==============================] - 7s 3ms/step - loss: 0.0036 - acc: 0.9974 - val_loss: 0.0050 - val_acc: 0.9837\n",
      "Epoch 18/20\n",
      "1960/1960 [==============================] - 7s 3ms/step - loss: 0.0034 - acc: 0.9974 - val_loss: 0.0051 - val_acc: 0.9796\n",
      "Epoch 19/20\n",
      "1960/1960 [==============================] - 7s 4ms/step - loss: 0.0032 - acc: 0.9974 - val_loss: 0.0045 - val_acc: 0.9878\n",
      "Epoch 20/20\n",
      "1960/1960 [==============================] - 7s 3ms/step - loss: 0.0030 - acc: 0.9974 - val_loss: 0.0043 - val_acc: 0.9837\n",
      "\n",
      "Training completed...\n"
     ]
    },
    {
     "data": {
      "image/png": "[encoded data removed]",
      "text/plain": [
       "<Figure size 432x288 with 1 Axes>"
      ]
     },
     "metadata": {
      "needs_background": "light"
     },
     "output_type": "display_data"
    },
    {
     "data": {
      "image/png": "[encoded data removed]",
      "text/plain": [
       "<Figure size 432x288 with 1 Axes>"
      ]
     },
     "metadata": {
      "needs_background": "light"
     },
     "output_type": "display_data"
    }
   ],
   "source": [
    "ann = train_ann(ann, inputs, outputs, inputs_valid, outputs_valid, epochs=20) #20"
   ]
  },
  {
   "cell_type": "code",
   "execution_count": 14,
   "metadata": {},
   "outputs": [],
   "source": [
    "#ann.save('prepare_data/0.9980ac.h5') #OVO MENJAJ"
   ]
  },
  {
   "cell_type": "code",
   "execution_count": null,
   "metadata": {},
   "outputs": [],
   "source": []
  },
  {
   "cell_type": "code",
   "execution_count": 15,
   "metadata": {},
   "outputs": [],
   "source": [
    "prepered_img1 = prepare_for_predict(\"prepare_data/test/down/down_316.pgm\")\n",
    "prepered_img2 = prepare_for_predict(\"prepare_data/test/down/down_327.pgm\")\n",
    "prepered_img3 = prepare_for_predict(\"prepare_data/test/down/down_350.pgm\")\n",
    "real_inp  = []\n",
    "real_inp.append(prepered_img1)\n",
    "real_inp.append(prepered_img2)\n",
    "real_inp.append(prepered_img3)"
   ]
  },
  {
   "cell_type": "code",
   "execution_count": 16,
   "metadata": {},
   "outputs": [],
   "source": [
    "result = ann.predict(np.array(real_inp, np.float32))"
   ]
  },
  {
   "cell_type": "code",
   "execution_count": 17,
   "metadata": {},
   "outputs": [
    {
     "name": "stdout",
     "output_type": "stream",
     "text": [
      "down\n",
      "down\n",
      "down\n"
     ]
    }
   ],
   "source": [
    "for r in result:\n",
    "    win = winner(r)\n",
    "    print(alphabet[win])"
   ]
  },
  {
   "cell_type": "code",
   "execution_count": null,
   "metadata": {},
   "outputs": [],
   "source": []
  },
  {
   "cell_type": "code",
   "execution_count": null,
   "metadata": {},
   "outputs": [],
   "source": []
  }
 ],
 "metadata": {
  "kernelspec": {
   "display_name": "Python 3",
   "language": "python",
   "name": "python3"
  },
  "language_info": {
   "codemirror_mode": {
    "name": "ipython",
    "version": 3
   },
   "file_extension": ".py",
   "mimetype": "text/x-python",
   "name": "python",
   "nbconvert_exporter": "python",
   "pygments_lexer": "ipython3",
   "version": "3.7.0"
  }
 },
 "nbformat": 4,
 "nbformat_minor": 2
}
